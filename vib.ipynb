{
 "cells": [
  {
   "cell_type": "markdown",
   "metadata": {},
   "source": [
    "# VIB: Theory"
   ]
  },
  {
   "cell_type": "markdown",
   "metadata": {},
   "source": [
    "**Notation**\n",
    "* $x$ be our input source,\n",
    "* $y$ be our target\n",
    "* $z$ be our latent representation\n",
    "\n",
    "### Mutual Information\n",
    "Mutual information (MI) measures the amount of information obtained about one random variable after observing another random variable. Formally given two random variables $x$ and $y$ with joint distribution $p(x,y)$ and marginal densities $p(x)$ and $p(y)$ their MI is defined as the KL-divergence between the joint density and the product of their marginal densities\n",
    "$$\\begin{align}\n",
    "I(x;y)&=I(y;x)\\\\\n",
    "&=KL\\Big(p(x,y)||p(x)p(y)\\Big)\\\\\n",
    "&=\\mathbb{E}_{(x,y)\\sim p(x,y)}\\bigg[\\log\\frac{p(x,y)}{p(x)p(y)}\\bigg]\\\\\n",
    "&=\\int dxdyp(x,y)\\log\\frac{p(x,y)}{p(x)p(y)}\n",
    "\\end{align}$$\n",
    "\n",
    "### Information Bottlenecks\n",
    "IB regards supervised learning as a representation learning problem, seeking a stochastic map from input data\n",
    "$x$ to some latent representation $z$ that can still be used to predict the labels $y$ , under a constraint on its total complexity.\n",
    "\n",
    "We assume our joint distribution $p(x,y,z)$ can be factorised as follows:\n",
    "$$p(x,y,z)=p(z\\mid x,y)p(y\\mid x)p(x)=p(z\\mid x)p(y\\mid x)p(x)$$\n",
    "which corresponds to the following Markov Chain \n",
    "$$y\\rightarrow x\\rightarrow z$$\n",
    "\n",
    "Our goal is to learn an encoding that is maximally informative about our target $y$ measured by $I(y;z)$. We could always ensure a maximally informative representation by taking the identity encoding $x=z$ which is not useful. Instead we apply a constraint such that the objective is\n",
    "$$\\begin{alignat}{3}\n",
    "    &\\underset{}{\\text{max }} & \\quad & I(y;z)\\\\\n",
    "    &\\text{subject to } & \\quad & I(x;z)\\leq I_c\n",
    "\\end{alignat}$$\n",
    "where $I_c$ is the information constraint. The Lagrangian of the above constrained optimisation problem is\n",
    "$$\\begin{align}\n",
    "    \\mathcal{L}_{IB}&=\\text{max }I(y;z)-\\beta \\big(I(x;z)-I_c\\big)\\\\\n",
    "    &=\\text{max }I(y;z)-\\beta I(x;z)\n",
    "\\end{align}$$\n",
    "where $\\beta\\geq0$ is a Lagrange multiplier. \n",
    "* Intuitively the first term encourages $z$ to be predictive of $y$, whilst the second term encourages $z$ to \"forget\" $x$. \n",
    "* In essence, IB principle explicitly enforces the learned representation $z$ to only preserve the information in $x$ that is useful to the prediction of $y$, i.e., the minimal sufficient statistics of $x$ w.r.t. $y$.\n",
    "\n",
    "### Variational Information Bottlenecks\n",
    "\n",
    "**The first term**<br>\n",
    "We can write out the terms in the objective as\n",
    "$$I(y;z)=\\int dydz p(y,z)\\log \\frac{p(y,z)}{p(y)p(z)}=\\int dydz p(y,z)\\log \\frac{p(y\\mid z)}{p(y)}$$\n",
    "where $p(y\\mid z)$ is defined as\n",
    "$$p(y\\mid z)=\\int dx \\frac{p(x,y,z)}{p(z)}=\\int dx \\frac{p(z\\mid x)p(y\\mid x)p(x)}{p(z)}$$\n",
    "which is intractable. Let $q(y\\mid z)$ be a variational approximation to $p(y\\mid z)$. By using the KL divergence we can obtain a lower bound on $I(y;z)$\n",
    "$$KL\\Big(p(y\\mid z)|| q(y\\mid z)\\Big)\\geq0\\Longrightarrow \\int dy p(y\\mid z)\\log p(y\\mid z)\\geq \\int dy p(y\\mid z)\\log q(y\\mid z)$$\n",
    "Hence we have that \n",
    "$$\\begin{align}\n",
    "    I(y;z)&= \\int dydz p(y,z)\\log p(y\\mid z) - \\int dy p(y)\\log p(y)\\\\\n",
    "    &\\geq \\int dydz p(y, z)\\log q(y\\mid z) - \\int dy p(y)\\log p(y)\\\\\n",
    "    &=\\int dxdydz p(z\\mid x)p(y\\mid x)p(x)\\log q(y\\mid z)\n",
    "\\end{align}$$\n",
    "where the entropy of the labels $H(y)=- \\int dy p(y)\\log p(y)$ is independent of our optimisation and so can be ignored.\n",
    "\n",
    "\n",
    "**The second term**<br>\n",
    "We can write out the second term in the objective as \n",
    "$$I(x;z)=\\int dxdz p(x,z)\\log \\frac{p(x,z)}{p(x)p(z)}=\\int dxdz p(x,z)\\log \\frac{p(z\\mid x)}{p(z)}$$\n",
    "Let $q(z)$ be a variational approximation to the marginal $p(z)$. By using the KL divergence we can obtain an upper bound on $I(x;z)$ as \n",
    "$$KL\\Big(p(z)|| q(z)\\Big)\\geq0\\Longrightarrow \\int dz p(z)\\log p(z)\\geq \\int dz p(z)\\log q(z)$$\n",
    "Hence we have\n",
    "$$\\begin{align}\n",
    "    I(x;z)&=\\int dxdz p(x,z)\\log p(z\\mid x) - \\int dz p(z)\\log p(z)\\\\\n",
    "    &\\leq\\int dxdz p(x,z)\\log p(z\\mid x) - \\int dz p(z)\\log q(z)\\\\\n",
    "    &=\\int dxdz p(x)p(z\\mid x)\\log \\frac{p(z\\mid x)}{q(z)}\n",
    "\\end{align}$$\n",
    "\n",
    "### Loss Function\n",
    "Combining the above two bounds we have that \n",
    "$$I(y;z)-\\beta I(x;z)\\geq \\int dxdydz p(z\\mid x)p(y\\mid x)p(x)\\log q(y\\mid z) -\\beta\\int dxdz p(x)p(z\\mid x)\\log \\frac{p(z\\mid x)}{q(z)} = L$$\n",
    "\n",
    "To compute the lower bound in practice make the following assumptions:\n",
    "\n",
    "* We approximate $p(x,y)=p(x)p(y\\mid x)$ using the empirical data distribution $p(x,y)=\\frac{1}{n}\\sum^{n}_{i=1}\\delta_{x_i}(x)\\delta_{y_i}(y)$ such that \n",
    "$$\\begin{align}\n",
    "L&\\approx \\frac{1}{n}\\sum^{n}_{i=1}\\bigg[\\int dz p(z\\mid x_i)\\log q(y_i\\mid z)-\\beta\\int dz p(z\\mid x_i)\\log \\frac{p(z\\mid x_i)}{q(z)}\\bigg]\\\\\n",
    "&=\\frac{1}{n}\\sum^{n}_{i=1}\\bigg[\\int dz p(z\\mid x_i)\\log q(y_i\\mid z)- \\beta KL\\Big(p(z\\mid x_i)|| q(z)\\Big) \\bigg]\n",
    "\\end{align}$$\n",
    "\n",
    "* By using an encoder parameterised as multivariate Gaussian\n",
    "$$p_\\phi(z\\mid x)=\\mathcal{N}\\bigg(z;\\boldsymbol{\\mu}_\\phi(x), \\boldsymbol{\\Sigma}_\\phi(x)\\bigg)$$\n",
    "then we can use the reparameterisation trick such that $z=g_\\phi(\\epsilon,x)$ which is a deterministic function of $x$ and the Gaussian random variable $\\epsilon\\sim p(\\epsilon)=\\mathcal{N}(0,I)$.\n",
    "\n",
    "* We assume that our choice of parameterisation of $p(z\\mid x)$ and $q(z)$ allow for computation of an analytic KL-divergence, \n",
    "\n",
    "Thus the final objective we would **minimise** is \n",
    "$$J_{IB}=\\frac{1}{n}\\sum^{n}_{i=1}\\Bigg[\\beta KL\\Big(p(z\\mid x_i)|| q(z)\\Big) - \\mathbb{E}_{\\epsilon\\sim p(\\epsilon)}\\Big[\\log q\\big(y_i\\mid g_\\phi(\\epsilon,x)\\big)\\Big]\\Bigg]$$\n",
    "where we have that \n",
    "* $p_\\phi(z\\mid x)$ is the encoder parameterised as a multivariate Gaussian \n",
    "$$p_\\phi(z\\mid x)=\\mathcal{N}\\bigg(z;\\boldsymbol{\\mu}_\\phi(x), \\boldsymbol{\\Sigma}_\\phi(x)\\bigg)$$\n",
    "* $q_\\theta(y\\mid z)$ is the decoder parameterised as an independent Bernoulli for each element $y_j$ of $y$ (for binary data) \n",
    "$$q_\\theta(y_j\\mid z)=\\text{Ber}\\Big(\\mu_\\theta(z)\\Big)$$\n",
    "* $q(z)$ is the approximated latent marginal often fixed to a standard normal.\n",
    "$$q_\\theta(z)=\\mathcal{N}\\Big(z;\\mathbf{0},\\mathbf{I}_k\\Big)$$\n",
    "\n",
    "**Unsure about this**<br>\n",
    "By using our parameterisation of the decoder $q_\\theta(y\\mid z)$ as an indepenedent Bernoulli we have that \n",
    "$$-\\log q_\\theta(y\\mid z)=-y\\log \\hat{y} + (1-y)\\log(1-\\hat{y})$$\n",
    "i.e. this is the Binary Cross Entropy loss.\n",
    "\n",
    "### Connection to Variational Autoencoder\n",
    "The VAE is a special case of an unsupervised version of VIB with $\\beta=1.0$ as they consider the objective \n",
    "$$L=I(x;z)-\\beta I(i;z)$$\n",
    "where the aim is to take our data $x$ and maximize the mutual information contained in some encoding $z$, while restricting how much information we allow our representation to contain about the identity of each data element in our sample $i$. While this objective takes the same mathematical form as that of a Variational Autoencoder, the interpretation of the objective is very different:\n",
    "* In the VAE, the model starts life as a generative model with a defined prior $p(z)$ and stochastic decoder $p(x|z)$ as part of the model, and the encoder $q(z|x)$ is created to serve as a variational approximation to the true posterior $p(z|x) = \\frac{p(x|z)}{p(z)p(x)}$. \n",
    "* In the VIB approach, the model is originally just the stochastic encoder $p(z|x)$, and the decoder $q(x|z)$ is the variational approximation to the true $p(x|z) = \\frac{p(z|x)p(x)}{p(z)}$ and $q(z)$ is the variational approximation to the marginal $p(z) =\\int dx p(x)p(z|x)$.\n",
    "\n",
    "### References\n",
    "* Original Deep VIB paper: https://arxiv.org/abs/1612.00410"
   ]
  },
  {
   "cell_type": "markdown",
   "metadata": {},
   "source": [
    "# VIB: Code"
   ]
  },
  {
   "cell_type": "markdown",
   "metadata": {},
   "source": [
    "The code is almost identical to my VAE implementation found here: [torch_vae](https://github.com/udeepam/vae/blob/master/notebooks/vae.ipynb)"
   ]
  },
  {
   "cell_type": "code",
   "execution_count": 13,
   "metadata": {},
   "outputs": [],
   "source": [
    "from __future__ import absolute_import\n",
    "from __future__ import division\n",
    "from __future__ import print_function\n",
    "\n",
    "import numpy as np\n",
    "import matplotlib.pyplot as plt\n",
    "import time\n",
    "from collections import defaultdict\n",
    "\n",
    "import torch\n",
    "import torch.nn as nn\n",
    "from torch.nn import functional as F\n",
    "import torch.utils.data as data_utils\n",
    "\n",
    "# Device Config\n",
    "device = torch.device(\"cuda\" if torch.cuda.is_available() else \"cpu\")\n",
    "\n",
    "# Fix random seeds for reproducibility\n",
    "seed = 73\n",
    "torch.manual_seed(seed)\n",
    "np.random.seed(seed)"
   ]
  },
  {
   "cell_type": "markdown",
   "metadata": {},
   "source": [
    "## Load MNIST Dataset"
   ]
  },
  {
   "cell_type": "code",
   "execution_count": 14,
   "metadata": {},
   "outputs": [],
   "source": [
    "# import torchvision\n",
    "# from torchvision import transforms\n",
    "# from torchvision.datasets import MNIST\n",
    "# # 60000 tuples with 1x28x28 image and corresponding label\n",
    "# data = MNIST('data', \n",
    "#              train=True, \n",
    "#              download=True,\n",
    "#              transform = transforms.Compose([transforms.ToTensor()]))\n",
    "# # Split data into images and labels\n",
    "# x_train = data.train_data\n",
    "# y_train = data.train_labels\n",
    "# # Scale images from [0,255] to [0,+1]\n",
    "# x_train = x_train.float() / 255\n",
    "# # Save as .npz\n",
    "# np.savez_compressed('data/mnist_train', \n",
    "#                     a=x_train,\n",
    "#                     b=y_train)\n",
    "\n",
    "# # 10000 tuples with 1x28x28 image and corresponding label\n",
    "# data = MNIST('data', \n",
    "#              train=False, \n",
    "#              download=True,\n",
    "#              transform = transforms.Compose([transforms.ToTensor()]))\n",
    "# # Split data into images and labels\n",
    "# x_test = data.test_data\n",
    "# y_test = data.test_labels\n",
    "# # Scale images from [0,255] to [0,+1]\n",
    "# x_test = x_test.float() / 255\n",
    "# # Save as .npz\n",
    "# np.savez_compressed('data/mnist_test', \n",
    "#                     a=x_test,\n",
    "#                     b=y_test)"
   ]
  },
  {
   "cell_type": "code",
   "execution_count": 15,
   "metadata": {},
   "outputs": [],
   "source": [
    "# Load MNIST data locally\n",
    "train_data = np.load('data/mnist_train.npz')\n",
    "x_train = torch.Tensor(train_data['a'])\n",
    "y_train = torch.Tensor(train_data['b'])\n",
    "n_classes = len(np.unique(y_train))\n",
    "\n",
    "test_data = np.load('data/mnist_test.npz')\n",
    "x_test = torch.Tensor(test_data['a'])\n",
    "y_test = torch.Tensor(test_data['b'])"
   ]
  },
  {
   "cell_type": "code",
   "execution_count": 16,
   "metadata": {},
   "outputs": [
    {
     "data": {
      "image/png": "[encoded data removed]",
      "text/plain": [
       "<Figure size 2520x2520 with 4 Axes>"
      ]
     },
     "metadata": {
      "needs_background": "light"
     },
     "output_type": "display_data"
    }
   ],
   "source": [
    "# Visualise data\n",
    "plt.rcParams.update({'font.size': 16})\n",
    "fig, axes = plt.subplots(1,4, figsize=(35,35))\n",
    "imx, imy = (28,28)\n",
    "labels   = [0,1,2,3]\n",
    "for i, ax in enumerate(axes):\n",
    "    visual = np.reshape(x_train[labels[i]], (imx,imy))\n",
    "    ax.set_title(\"Example Data Image, y=\"+str(int(y_train[labels[i]])))\n",
    "    ax.imshow(visual, vmin=0, vmax=1)\n",
    "plt.show()"
   ]
  },
  {
   "cell_type": "markdown",
   "metadata": {},
   "source": [
    "## Models"
   ]
  },
  {
   "cell_type": "code",
   "execution_count": 92,
   "metadata": {},
   "outputs": [],
   "source": [
    "class DeepVIB(nn.Module):\n",
    "    def __init__(self, input_shape, output_shape, z_dim):\n",
    "        \"\"\"\n",
    "        Deep VIB Model.\n",
    "        \n",
    "        Arguments:\n",
    "        ----------\n",
    "        input_shape : `int`\n",
    "            Flattened size of image. (Default=784)\n",
    "        output_shape : `int`\n",
    "            Number of classes. (Default=10)            \n",
    "        z_dim : `int`\n",
    "            The dimension of the latent variable z. (Default=256)\n",
    "        \"\"\"        \n",
    "        super(DeepVIB, self).__init__()\n",
    "        self.input_shape  = input_shape\n",
    "        self.output_shape = output_shape\n",
    "        self.z_dim  = z_dim\n",
    "        \n",
    "        # build encoder\n",
    "        self.encoder = nn.Sequential(nn.Linear(input_shape, 1024),\n",
    "                                     nn.ReLU(inplace=True),\n",
    "                                     nn.Linear(1024, 1024),\n",
    "                                     nn.ReLU(inplace=True)                                    )  \n",
    "        self.fc_mu  = nn.Linear(1024, self.z_dim) \n",
    "        self.fc_std = nn.Linear(1024, self.z_dim)\n",
    "        \n",
    "        # build decoder\n",
    "        self.decoder = nn.Linear(self.z_dim, output_shape)\n",
    "\n",
    "    def encode(self, x):\n",
    "        \"\"\"\n",
    "        x : [batch_size,784]\n",
    "        \"\"\"\n",
    "        x = self.encoder(x)\n",
    "        return self.fc_mu(x), F.softplus(self.fc_std(x)-5, beta=1)\n",
    "    \n",
    "    def decode(self, z):\n",
    "        \"\"\"\n",
    "        z : [batch_size,z_dim]\n",
    "        \"\"\" \n",
    "        return self.decoder(z)\n",
    "    \n",
    "    def reparameterise(self, mu, std):\n",
    "        \"\"\"\n",
    "        mu : [batch_size,z_dim]\n",
    "        std : [batch_size,z_dim]        \n",
    "        \"\"\"        \n",
    "        # get epsilon from standard normal\n",
    "        eps = torch.randn_like(std)\n",
    "        return mu + std*eps\n",
    "    \n",
    "    def forward(self, x):\n",
    "        \"\"\"\n",
    "        Forward pass \n",
    "        \n",
    "        Parameters:\n",
    "        -----------\n",
    "        x : [batch_size,28,28]\n",
    "        \"\"\"\n",
    "        # flattent image\n",
    "        x_flat = x.view(x.size(0), -1)\n",
    "        mu, std = self.encode(x_flat)\n",
    "        z = self.reparameterise(mu, std)\n",
    "        return self.decode(z), mu, std     "
   ]
  },
  {
   "cell_type": "markdown",
   "metadata": {},
   "source": [
    "## Training"
   ]
  },
  {
   "cell_type": "code",
   "execution_count": 93,
   "metadata": {},
   "outputs": [],
   "source": [
    "# Hyperparameters\n",
    "z_dim  = 256\n",
    "epochs = 200\n",
    "batch_size = 128\n",
    "learning_rate = 1e-4\n",
    "decay_rate = 0.97\n",
    "beta = 1e-3"
   ]
  },
  {
   "cell_type": "code",
   "execution_count": 96,
   "metadata": {},
   "outputs": [
    {
     "name": "stdout",
     "output_type": "stream",
     "text": [
      "Device:  cpu\n",
      "DeepVIB(\n",
      "  (encoder): Sequential(\n",
      "    (0): Linear(in_features=784, out_features=1024, bias=True)\n",
      "    (1): ReLU(inplace=True)\n",
      "    (2): Linear(in_features=1024, out_features=1024, bias=True)\n",
      "    (3): ReLU(inplace=True)\n",
      "  )\n",
      "  (fc_mu): Linear(in_features=1024, out_features=256, bias=True)\n",
      "  (fc_std): Linear(in_features=1024, out_features=256, bias=True)\n",
      "  (decoder): Linear(in_features=256, out_features=10, bias=True)\n",
      ")\n"
     ]
    }
   ],
   "source": [
    "# Create DatatLoader \n",
    "train_dataset    = data_utils.TensorDataset(x_train, y_train)\n",
    "train_dataloader = torch.utils.data.DataLoader(train_dataset,\n",
    "                                               batch_size=batch_size,\n",
    "                                               shuffle=True)\n",
    "\n",
    "# Loss function: Cross Entropy Loss (CE) + beta*KL divergence\n",
    "def loss_function(y_pred, y, mu, std):\n",
    "    \"\"\"    \n",
    "    y_pred : [batch_size,10]\n",
    "    y : [batch_size,10]    \n",
    "    mu : [batch_size,z_dim]  \n",
    "    std: [batch_size,z_dim] \n",
    "    \"\"\"   \n",
    "    CE = F.cross_entropy(y_pred, y, reduction='sum')\n",
    "    KL  = 0.5 * torch.sum(mu.pow(2) + std.pow(2) - 2*std.log() - 1)\n",
    "    return (beta*KL + CE) / y.size(0)\n",
    "\n",
    "# Initialize Deep VIB\n",
    "vib = DeepVIB(np.prod(x_train[0].shape), n_classes, z_dim)\n",
    "\n",
    "# Optimisers\n",
    "optimiser = torch.optim.Adam(vib.parameters(), lr=learning_rate)\n",
    "scheduler = torch.optim.lr_scheduler.ExponentialLR(optimizer=optimiser, gamma=decay_rate)\n",
    "\n",
    "# Send to GPU if available\n",
    "vib.to(device)\n",
    "\n",
    "print(\"Device: \", device)\n",
    "print(vib)"
   ]
  },
  {
   "cell_type": "code",
   "execution_count": 100,
   "metadata": {
    "scrolled": true
   },
   "outputs": [
    {
     "name": "stdout",
     "output_type": "stream",
     "text": [
      "Epoch: 1/200... Loss: 0.8316... Time Taken: 15.4374 seconds\n"
     ]
    },
    {
     "ename": "KeyboardInterrupt",
     "evalue": "",
     "output_type": "error",
     "traceback": [
      "\u001b[0;31m---------------------------------------------------------------------------\u001b[0m",
      "\u001b[0;31mKeyboardInterrupt\u001b[0m                         Traceback (most recent call last)",
      "\u001b[0;32m<ipython-input-100-d7cc0a7430b0>\u001b[0m in \u001b[0;36m<module>\u001b[0;34m\u001b[0m\n\u001b[1;32m     30\u001b[0m         \u001b[0mloss\u001b[0m\u001b[0;34m.\u001b[0m\u001b[0mbackward\u001b[0m\u001b[0;34m(\u001b[0m\u001b[0;34m)\u001b[0m\u001b[0;34m\u001b[0m\u001b[0;34m\u001b[0m\u001b[0m\n\u001b[1;32m     31\u001b[0m         \u001b[0;31m# Update parameters of generator\u001b[0m\u001b[0;34m\u001b[0m\u001b[0;34m\u001b[0m\u001b[0;34m\u001b[0m\u001b[0m\n\u001b[0;32m---> 32\u001b[0;31m         \u001b[0moptimiser\u001b[0m\u001b[0;34m.\u001b[0m\u001b[0mstep\u001b[0m\u001b[0;34m(\u001b[0m\u001b[0;34m)\u001b[0m\u001b[0;34m\u001b[0m\u001b[0;34m\u001b[0m\u001b[0m\n\u001b[0m\u001b[1;32m     33\u001b[0m \u001b[0;34m\u001b[0m\u001b[0m\n\u001b[1;32m     34\u001b[0m         \u001b[0;31m# Save loss per batch\u001b[0m\u001b[0;34m\u001b[0m\u001b[0;34m\u001b[0m\u001b[0;34m\u001b[0m\u001b[0m\n",
      "\u001b[0;32m/anaconda3/lib/python3.6/site-packages/torch/optim/lr_scheduler.py\u001b[0m in \u001b[0;36mwrapper\u001b[0;34m(*args, **kwargs)\u001b[0m\n\u001b[1;32m     65\u001b[0m                 \u001b[0minstance\u001b[0m\u001b[0;34m.\u001b[0m\u001b[0m_step_count\u001b[0m \u001b[0;34m+=\u001b[0m \u001b[0;36m1\u001b[0m\u001b[0;34m\u001b[0m\u001b[0;34m\u001b[0m\u001b[0m\n\u001b[1;32m     66\u001b[0m                 \u001b[0mwrapped\u001b[0m \u001b[0;34m=\u001b[0m \u001b[0mfunc\u001b[0m\u001b[0;34m.\u001b[0m\u001b[0m__get__\u001b[0m\u001b[0;34m(\u001b[0m\u001b[0minstance\u001b[0m\u001b[0;34m,\u001b[0m \u001b[0mcls\u001b[0m\u001b[0;34m)\u001b[0m\u001b[0;34m\u001b[0m\u001b[0;34m\u001b[0m\u001b[0m\n\u001b[0;32m---> 67\u001b[0;31m                 \u001b[0;32mreturn\u001b[0m \u001b[0mwrapped\u001b[0m\u001b[0;34m(\u001b[0m\u001b[0;34m*\u001b[0m\u001b[0margs\u001b[0m\u001b[0;34m,\u001b[0m \u001b[0;34m**\u001b[0m\u001b[0mkwargs\u001b[0m\u001b[0;34m)\u001b[0m\u001b[0;34m\u001b[0m\u001b[0;34m\u001b[0m\u001b[0m\n\u001b[0m\u001b[1;32m     68\u001b[0m \u001b[0;34m\u001b[0m\u001b[0m\n\u001b[1;32m     69\u001b[0m             \u001b[0;31m# Note that the returned function here is no longer a bound method,\u001b[0m\u001b[0;34m\u001b[0m\u001b[0;34m\u001b[0m\u001b[0;34m\u001b[0m\u001b[0m\n",
      "\u001b[0;32m/anaconda3/lib/python3.6/site-packages/torch/autograd/grad_mode.py\u001b[0m in \u001b[0;36mdecorate_context\u001b[0;34m(*args, **kwargs)\u001b[0m\n\u001b[1;32m     13\u001b[0m         \u001b[0;32mdef\u001b[0m \u001b[0mdecorate_context\u001b[0m\u001b[0;34m(\u001b[0m\u001b[0;34m*\u001b[0m\u001b[0margs\u001b[0m\u001b[0;34m,\u001b[0m \u001b[0;34m**\u001b[0m\u001b[0mkwargs\u001b[0m\u001b[0;34m)\u001b[0m\u001b[0;34m:\u001b[0m\u001b[0;34m\u001b[0m\u001b[0;34m\u001b[0m\u001b[0m\n\u001b[1;32m     14\u001b[0m             \u001b[0;32mwith\u001b[0m \u001b[0mself\u001b[0m\u001b[0;34m:\u001b[0m\u001b[0;34m\u001b[0m\u001b[0;34m\u001b[0m\u001b[0m\n\u001b[0;32m---> 15\u001b[0;31m                 \u001b[0;32mreturn\u001b[0m \u001b[0mfunc\u001b[0m\u001b[0;34m(\u001b[0m\u001b[0;34m*\u001b[0m\u001b[0margs\u001b[0m\u001b[0;34m,\u001b[0m \u001b[0;34m**\u001b[0m\u001b[0mkwargs\u001b[0m\u001b[0;34m)\u001b[0m\u001b[0;34m\u001b[0m\u001b[0;34m\u001b[0m\u001b[0m\n\u001b[0m\u001b[1;32m     16\u001b[0m         \u001b[0;32mreturn\u001b[0m \u001b[0mdecorate_context\u001b[0m\u001b[0;34m\u001b[0m\u001b[0;34m\u001b[0m\u001b[0m\n\u001b[1;32m     17\u001b[0m \u001b[0;34m\u001b[0m\u001b[0m\n",
      "\u001b[0;32m/anaconda3/lib/python3.6/site-packages/torch/optim/adam.py\u001b[0m in \u001b[0;36mstep\u001b[0;34m(self, closure)\u001b[0m\n\u001b[1;32m     98\u001b[0m                 \u001b[0;31m# Decay the first and second moment running average coefficient\u001b[0m\u001b[0;34m\u001b[0m\u001b[0;34m\u001b[0m\u001b[0;34m\u001b[0m\u001b[0m\n\u001b[1;32m     99\u001b[0m                 \u001b[0mexp_avg\u001b[0m\u001b[0;34m.\u001b[0m\u001b[0mmul_\u001b[0m\u001b[0;34m(\u001b[0m\u001b[0mbeta1\u001b[0m\u001b[0;34m)\u001b[0m\u001b[0;34m.\u001b[0m\u001b[0madd_\u001b[0m\u001b[0;34m(\u001b[0m\u001b[0mgrad\u001b[0m\u001b[0;34m,\u001b[0m \u001b[0malpha\u001b[0m\u001b[0;34m=\u001b[0m\u001b[0;36m1\u001b[0m \u001b[0;34m-\u001b[0m \u001b[0mbeta1\u001b[0m\u001b[0;34m)\u001b[0m\u001b[0;34m\u001b[0m\u001b[0;34m\u001b[0m\u001b[0m\n\u001b[0;32m--> 100\u001b[0;31m                 \u001b[0mexp_avg_sq\u001b[0m\u001b[0;34m.\u001b[0m\u001b[0mmul_\u001b[0m\u001b[0;34m(\u001b[0m\u001b[0mbeta2\u001b[0m\u001b[0;34m)\u001b[0m\u001b[0;34m.\u001b[0m\u001b[0maddcmul_\u001b[0m\u001b[0;34m(\u001b[0m\u001b[0mgrad\u001b[0m\u001b[0;34m,\u001b[0m \u001b[0mgrad\u001b[0m\u001b[0;34m,\u001b[0m \u001b[0mvalue\u001b[0m\u001b[0;34m=\u001b[0m\u001b[0;36m1\u001b[0m \u001b[0;34m-\u001b[0m \u001b[0mbeta2\u001b[0m\u001b[0;34m)\u001b[0m\u001b[0;34m\u001b[0m\u001b[0;34m\u001b[0m\u001b[0m\n\u001b[0m\u001b[1;32m    101\u001b[0m                 \u001b[0;32mif\u001b[0m \u001b[0mamsgrad\u001b[0m\u001b[0;34m:\u001b[0m\u001b[0;34m\u001b[0m\u001b[0;34m\u001b[0m\u001b[0m\n\u001b[1;32m    102\u001b[0m                     \u001b[0;31m# Maintains the maximum of all 2nd moment running avg. till now\u001b[0m\u001b[0;34m\u001b[0m\u001b[0;34m\u001b[0m\u001b[0;34m\u001b[0m\u001b[0m\n",
      "\u001b[0;31mKeyboardInterrupt\u001b[0m: "
     ]
    }
   ],
   "source": [
    "# Training\n",
    "measures = defaultdict(list)\n",
    "start_time = time.time()\n",
    "\n",
    "# put Deep VIB into train mode \n",
    "vib.train()  \n",
    "\n",
    "for epoch in range(epochs):\n",
    "    epoch_start_time = time.time()  \n",
    "    \n",
    "    # exponential decay of learning rate every 2 epochs\n",
    "    if epoch % 2 == 0 and epoch > 0:\n",
    "        scheduler.step()    \n",
    "    \n",
    "    batch_loss = 0\n",
    "    for _, (X,y) in enumerate(train_dataloader): \n",
    "        X = X.to(device)        \n",
    "        y = y.long().to(device)\n",
    "        \n",
    "        # Zero accumulated gradients\n",
    "        vib.zero_grad()\n",
    "        \n",
    "        # forward pass through Deep VIB\n",
    "        y_pred, mu, std = vib(X)\n",
    "        \n",
    "        # Calculate loss\n",
    "        loss = loss_function(y_pred, y, mu, std)\n",
    "        # Backpropogation: calculating gradients\n",
    "        loss.backward()\n",
    "        # Update parameters of generator\n",
    "        optimiser.step()  \n",
    "        \n",
    "        # Save loss per batch\n",
    "        batch_loss += loss.item()*X.size(0) \n",
    "           \n",
    "    # Save losses per epoch\n",
    "    measures['total_loss'].append(batch_loss / len(train_dataloader.dataset))        \n",
    "    \n",
    "    print(\"Epoch: {}/{}...\".format(epoch+1, epochs),\n",
    "          \"Loss: {:.4f}...\".format(measures['total_loss'][-1]),\n",
    "          \"Time Taken: {:,.4f} seconds\".format(time.time()-epoch_start_time))\n",
    "    \n",
    "print(\"Total Time Taken: {:,.4f} seconds\".format(time.time()-start_time))"
   ]
  },
  {
   "cell_type": "markdown",
   "metadata": {},
   "source": [
    "## Testing"
   ]
  },
  {
   "cell_type": "code",
   "execution_count": 119,
   "metadata": {},
   "outputs": [
    {
     "name": "stdout",
     "output_type": "stream",
     "text": [
      "Accuracy: 0.9371... Time Taken: 0.4544 seconds\n"
     ]
    }
   ],
   "source": [
    "# Create DatatLoader \n",
    "test_dataset = data_utils.TensorDataset(x_test, y_test)\n",
    "test_dataloader = torch.utils.data.DataLoader(test_dataset,\n",
    "                                              batch_size=batch_size,\n",
    "                                              shuffle=True)\n",
    "\n",
    "measures = defaultdict(int)\n",
    "start_time = time.time()\n",
    "    \n",
    "# put Deep VIB into train mode \n",
    "vib.eval()       \n",
    "\n",
    "with torch.no_grad():\n",
    "    for _, (X,y) in enumerate(test_dataloader): \n",
    "        X = X.to(device)        \n",
    "        y = y.long().to(device)\n",
    "        \n",
    "        # forward pass through Deep VIB\n",
    "        y_pred, mu, std = vib(X)\n",
    "    \n",
    "        y_pred = torch.argmax(y_pred,dim=1)\n",
    "        measures['accuracy'] += int(torch.sum(y == y_pred))\n",
    "\n",
    "print(\"Accuracy: {:.4f}...\".format(measures['accuracy']/len(test_dataloader.dataset)),\n",
    "      \"Time Taken: {:,.4f} seconds\".format(time.time()-start_time))        "
   ]
  },
  {
   "cell_type": "code",
   "execution_count": null,
   "metadata": {},
   "outputs": [],
   "source": []
  }
 ],
 "metadata": {
  "kernelspec": {
   "display_name": "Python 3",
   "language": "python",
   "name": "python3"
  },
  "language_info": {
   "codemirror_mode": {
    "name": "ipython",
    "version": 3
   },
   "file_extension": ".py",
   "mimetype": "text/x-python",
   "name": "python",
   "nbconvert_exporter": "python",
   "pygments_lexer": "ipython3",
   "version": "3.6.8"
  }
 },
 "nbformat": 4,
 "nbformat_minor": 4
}
